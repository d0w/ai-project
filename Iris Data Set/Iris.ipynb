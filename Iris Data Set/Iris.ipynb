{
 "metadata": {
  "language_info": {
   "codemirror_mode": {
    "name": "ipython",
    "version": 3
   },
   "file_extension": ".py",
   "mimetype": "text/x-python",
   "name": "python",
   "nbconvert_exporter": "python",
   "pygments_lexer": "ipython3",
   "version": "3.8.8"
  },
  "orig_nbformat": 4,
  "kernelspec": {
   "name": "python3",
   "display_name": "Python 3.8.8 64-bit ('base': conda)"
  },
  "interpreter": {
   "hash": "0f9908abc8474d2f73cca78b3aba51555171f5abb829aaeeec4246efdc40138f"
  }
 },
 "nbformat": 4,
 "nbformat_minor": 2,
 "cells": [
  {
   "source": [
    "# Iris Data Analysis"
   ],
   "cell_type": "markdown",
   "metadata": {}
  },
  {
   "cell_type": "code",
   "execution_count": 24,
   "metadata": {},
   "outputs": [],
   "source": [
    "import numpy as np\n",
    "import pandas as pd\n",
    "\n",
    "import matplotlib.pyplot as plt\n",
    "import seaborn as sns\n",
    "sns.set(style=\"darkgrid\")\n",
    "\n",
    "from sklearn.ensemble import RandomForestClassifier\n",
    "from sklearn.preprocessing import OneHotEncoder, LabelEncoder, StandardScaler\n",
    "from sklearn.metrics import roc_curve, auc\n",
    "from sklearn.model_selection import StratifiedKFold\n",
    "\n",
    "import string\n",
    "import warnings\n",
    "warnings.filterwarnings('ignore')\n",
    "\n",
    "SEED = 42"
   ]
  },
  {
   "cell_type": "code",
   "execution_count": 25,
   "metadata": {},
   "outputs": [
    {
     "output_type": "stream",
     "name": "stdout",
     "text": [
      "X Shape = (150, 5)\nY Shape = 150\n\nIndex(['SepalLength', ' SepalWidth', ' PetalLength', ' PetalWidth', ' class'], dtype='object')\n\n"
     ]
    },
    {
     "output_type": "execute_result",
     "data": {
      "text/plain": [
       "     SepalLength   SepalWidth   PetalLength   PetalWidth           class\n",
       "0            5.1          3.5           1.4          0.2     Iris-setosa\n",
       "1            4.9          3.0           1.4          0.2     Iris-setosa\n",
       "2            4.7          3.2           1.3          0.2     Iris-setosa\n",
       "3            4.6          3.1           1.5          0.2     Iris-setosa\n",
       "4            5.0          3.6           1.4          0.2     Iris-setosa\n",
       "..           ...          ...           ...          ...             ...\n",
       "145          6.7          3.0           5.2          2.3  Iris-virginica\n",
       "146          6.3          2.5           5.0          1.9  Iris-virginica\n",
       "147          6.5          3.0           5.2          2.0  Iris-virginica\n",
       "148          6.2          3.4           5.4          2.3  Iris-virginica\n",
       "149          5.9          3.0           5.1          1.8  Iris-virginica\n",
       "\n",
       "[150 rows x 5 columns]"
      ],
      "text/html": "<div>\n<style scoped>\n    .dataframe tbody tr th:only-of-type {\n        vertical-align: middle;\n    }\n\n    .dataframe tbody tr th {\n        vertical-align: top;\n    }\n\n    .dataframe thead th {\n        text-align: right;\n    }\n</style>\n<table border=\"1\" class=\"dataframe\">\n  <thead>\n    <tr style=\"text-align: right;\">\n      <th></th>\n      <th>SepalLength</th>\n      <th>SepalWidth</th>\n      <th>PetalLength</th>\n      <th>PetalWidth</th>\n      <th>class</th>\n    </tr>\n  </thead>\n  <tbody>\n    <tr>\n      <th>0</th>\n      <td>5.1</td>\n      <td>3.5</td>\n      <td>1.4</td>\n      <td>0.2</td>\n      <td>Iris-setosa</td>\n    </tr>\n    <tr>\n      <th>1</th>\n      <td>4.9</td>\n      <td>3.0</td>\n      <td>1.4</td>\n      <td>0.2</td>\n      <td>Iris-setosa</td>\n    </tr>\n    <tr>\n      <th>2</th>\n      <td>4.7</td>\n      <td>3.2</td>\n      <td>1.3</td>\n      <td>0.2</td>\n      <td>Iris-setosa</td>\n    </tr>\n    <tr>\n      <th>3</th>\n      <td>4.6</td>\n      <td>3.1</td>\n      <td>1.5</td>\n      <td>0.2</td>\n      <td>Iris-setosa</td>\n    </tr>\n    <tr>\n      <th>4</th>\n      <td>5.0</td>\n      <td>3.6</td>\n      <td>1.4</td>\n      <td>0.2</td>\n      <td>Iris-setosa</td>\n    </tr>\n    <tr>\n      <th>...</th>\n      <td>...</td>\n      <td>...</td>\n      <td>...</td>\n      <td>...</td>\n      <td>...</td>\n    </tr>\n    <tr>\n      <th>145</th>\n      <td>6.7</td>\n      <td>3.0</td>\n      <td>5.2</td>\n      <td>2.3</td>\n      <td>Iris-virginica</td>\n    </tr>\n    <tr>\n      <th>146</th>\n      <td>6.3</td>\n      <td>2.5</td>\n      <td>5.0</td>\n      <td>1.9</td>\n      <td>Iris-virginica</td>\n    </tr>\n    <tr>\n      <th>147</th>\n      <td>6.5</td>\n      <td>3.0</td>\n      <td>5.2</td>\n      <td>2.0</td>\n      <td>Iris-virginica</td>\n    </tr>\n    <tr>\n      <th>148</th>\n      <td>6.2</td>\n      <td>3.4</td>\n      <td>5.4</td>\n      <td>2.3</td>\n      <td>Iris-virginica</td>\n    </tr>\n    <tr>\n      <th>149</th>\n      <td>5.9</td>\n      <td>3.0</td>\n      <td>5.1</td>\n      <td>1.8</td>\n      <td>Iris-virginica</td>\n    </tr>\n  </tbody>\n</table>\n<p>150 rows × 5 columns</p>\n</div>"
     },
     "metadata": {},
     "execution_count": 25
    }
   ],
   "source": [
    "# reading files\n",
    "df_all = pd.read_csv('C:\\\\Users\\\\derek\\\\Documents\\\\AI\\\\Iris Data Set\\\\iris.csv') \n",
    "df_all.name = 'Iris Data'\n",
    "\n",
    "print('X Shape = {}'.format(df_all.shape))\n",
    "print('Y Shape = {}\\n'.format(df_all.shape[0]))\n",
    "print(df_all.columns)\n",
    "print()\n",
    "df_all"
   ]
  },
  {
   "cell_type": "code",
   "execution_count": 26,
   "metadata": {},
   "outputs": [
    {
     "output_type": "stream",
     "name": "stdout",
     "text": [
      "<class 'pandas.core.frame.DataFrame'>\nRangeIndex: 150 entries, 0 to 149\nData columns (total 5 columns):\n #   Column        Non-Null Count  Dtype  \n---  ------        --------------  -----  \n 0   SepalLength   150 non-null    float64\n 1    SepalWidth   150 non-null    float64\n 2    PetalLength  150 non-null    float64\n 3    PetalWidth   150 non-null    float64\n 4    class        150 non-null    object \ndtypes: float64(4), object(1)\nmemory usage: 6.0+ KB\nNone\n"
     ]
    },
    {
     "output_type": "execute_result",
     "data": {
      "text/plain": [
       "    SepalLength   SepalWidth   PetalLength   PetalWidth            class\n",
       "89          5.5          2.5           4.0          1.3  Iris-versicolor\n",
       "26          5.0          3.4           1.6          0.4      Iris-setosa\n",
       "56          6.3          3.3           4.7          1.6  Iris-versicolor"
      ],
      "text/html": "<div>\n<style scoped>\n    .dataframe tbody tr th:only-of-type {\n        vertical-align: middle;\n    }\n\n    .dataframe tbody tr th {\n        vertical-align: top;\n    }\n\n    .dataframe thead th {\n        text-align: right;\n    }\n</style>\n<table border=\"1\" class=\"dataframe\">\n  <thead>\n    <tr style=\"text-align: right;\">\n      <th></th>\n      <th>SepalLength</th>\n      <th>SepalWidth</th>\n      <th>PetalLength</th>\n      <th>PetalWidth</th>\n      <th>class</th>\n    </tr>\n  </thead>\n  <tbody>\n    <tr>\n      <th>89</th>\n      <td>5.5</td>\n      <td>2.5</td>\n      <td>4.0</td>\n      <td>1.3</td>\n      <td>Iris-versicolor</td>\n    </tr>\n    <tr>\n      <th>26</th>\n      <td>5.0</td>\n      <td>3.4</td>\n      <td>1.6</td>\n      <td>0.4</td>\n      <td>Iris-setosa</td>\n    </tr>\n    <tr>\n      <th>56</th>\n      <td>6.3</td>\n      <td>3.3</td>\n      <td>4.7</td>\n      <td>1.6</td>\n      <td>Iris-versicolor</td>\n    </tr>\n  </tbody>\n</table>\n</div>"
     },
     "metadata": {},
     "execution_count": 26
    }
   ],
   "source": [
    "print(df_all.info())\n",
    "df_all.sample(3)"
   ]
  },
  {
   "source": [
    "## Missing Values ##"
   ],
   "cell_type": "markdown",
   "metadata": {}
  },
  {
   "cell_type": "code",
   "execution_count": 27,
   "metadata": {},
   "outputs": [
    {
     "output_type": "stream",
     "name": "stdout",
     "text": [
      "Iris Data\nSepalLength column missing values: 0\n SepalWidth column missing values: 0\n PetalLength column missing values: 0\n PetalWidth column missing values: 0\n class column missing values: 0\n"
     ]
    }
   ],
   "source": [
    "def display_missing(df):\n",
    "    for c in df.columns.tolist():\n",
    "        print('{} column missing values: {}'.format(c, df[c].isnull().sum()))\n",
    "\n",
    "print('{}'.format(df_all.name))\n",
    "display_missing(df_all)"
   ]
  },
  {
   "source": [
    "There are no missing values so we can skip filling in values"
   ],
   "cell_type": "markdown",
   "metadata": {}
  },
  {
   "source": [
    "## Summary Statistics ##"
   ],
   "cell_type": "markdown",
   "metadata": {}
  },
  {
   "cell_type": "code",
   "execution_count": 62,
   "metadata": {},
   "outputs": [
    {
     "output_type": "execute_result",
     "data": {
      "text/plain": [
       "              Min  Max      Mean  Median       STD\n",
       "SepalLength   4.3  7.9  5.843333    5.80  0.828066\n",
       " SepalWidth   2.0  4.4  3.054000    3.00  0.433594\n",
       " PetalLength  1.0  6.9  3.758667    4.35  1.764420\n",
       " PetalWidth   0.1  2.5  1.198667    1.30  0.763161"
      ],
      "text/html": "<div>\n<style scoped>\n    .dataframe tbody tr th:only-of-type {\n        vertical-align: middle;\n    }\n\n    .dataframe tbody tr th {\n        vertical-align: top;\n    }\n\n    .dataframe thead th {\n        text-align: right;\n    }\n</style>\n<table border=\"1\" class=\"dataframe\">\n  <thead>\n    <tr style=\"text-align: right;\">\n      <th></th>\n      <th>Min</th>\n      <th>Max</th>\n      <th>Mean</th>\n      <th>Median</th>\n      <th>STD</th>\n    </tr>\n  </thead>\n  <tbody>\n    <tr>\n      <th>SepalLength</th>\n      <td>4.3</td>\n      <td>7.9</td>\n      <td>5.843333</td>\n      <td>5.80</td>\n      <td>0.828066</td>\n    </tr>\n    <tr>\n      <th>SepalWidth</th>\n      <td>2.0</td>\n      <td>4.4</td>\n      <td>3.054000</td>\n      <td>3.00</td>\n      <td>0.433594</td>\n    </tr>\n    <tr>\n      <th>PetalLength</th>\n      <td>1.0</td>\n      <td>6.9</td>\n      <td>3.758667</td>\n      <td>4.35</td>\n      <td>1.764420</td>\n    </tr>\n    <tr>\n      <th>PetalWidth</th>\n      <td>0.1</td>\n      <td>2.5</td>\n      <td>1.198667</td>\n      <td>1.30</td>\n      <td>0.763161</td>\n    </tr>\n  </tbody>\n</table>\n</div>"
     },
     "metadata": {},
     "execution_count": 62
    }
   ],
   "source": [
    "df_stats = pd.DataFrame(\n",
    "    {\n",
    "        \"Min\": df_all.min()[0:4],\n",
    "        \"Max\": df_all.max()[0:4],\n",
    "        \"Mean\": df_all.mean()[0:4],\n",
    "        \"Median\": df_all.median()[0:4],\n",
    "        \"STD\": df_all.std()[0:4],\n",
    "        #how to make correlation work\n",
    "        #\"Correlation\": df_all.corrwith()[0:3] // what does this correlation compute correlation between\n",
    "    }\n",
    ")\n",
    "df_stats"
   ]
  },
  {
   "cell_type": "code",
   "execution_count": 45,
   "metadata": {},
   "outputs": [
    {
     "output_type": "execute_result",
     "data": {
      "text/plain": [
       "       SepalLength   SepalWidth   PetalLength   PetalWidth\n",
       "count   150.000000   150.000000    150.000000   150.000000\n",
       "mean      5.843333     3.054000      3.758667     1.198667\n",
       "std       0.828066     0.433594      1.764420     0.763161\n",
       "min       4.300000     2.000000      1.000000     0.100000\n",
       "25%       5.100000     2.800000      1.600000     0.300000\n",
       "50%       5.800000     3.000000      4.350000     1.300000\n",
       "75%       6.400000     3.300000      5.100000     1.800000\n",
       "max       7.900000     4.400000      6.900000     2.500000"
      ],
      "text/html": "<div>\n<style scoped>\n    .dataframe tbody tr th:only-of-type {\n        vertical-align: middle;\n    }\n\n    .dataframe tbody tr th {\n        vertical-align: top;\n    }\n\n    .dataframe thead th {\n        text-align: right;\n    }\n</style>\n<table border=\"1\" class=\"dataframe\">\n  <thead>\n    <tr style=\"text-align: right;\">\n      <th></th>\n      <th>SepalLength</th>\n      <th>SepalWidth</th>\n      <th>PetalLength</th>\n      <th>PetalWidth</th>\n    </tr>\n  </thead>\n  <tbody>\n    <tr>\n      <th>count</th>\n      <td>150.000000</td>\n      <td>150.000000</td>\n      <td>150.000000</td>\n      <td>150.000000</td>\n    </tr>\n    <tr>\n      <th>mean</th>\n      <td>5.843333</td>\n      <td>3.054000</td>\n      <td>3.758667</td>\n      <td>1.198667</td>\n    </tr>\n    <tr>\n      <th>std</th>\n      <td>0.828066</td>\n      <td>0.433594</td>\n      <td>1.764420</td>\n      <td>0.763161</td>\n    </tr>\n    <tr>\n      <th>min</th>\n      <td>4.300000</td>\n      <td>2.000000</td>\n      <td>1.000000</td>\n      <td>0.100000</td>\n    </tr>\n    <tr>\n      <th>25%</th>\n      <td>5.100000</td>\n      <td>2.800000</td>\n      <td>1.600000</td>\n      <td>0.300000</td>\n    </tr>\n    <tr>\n      <th>50%</th>\n      <td>5.800000</td>\n      <td>3.000000</td>\n      <td>4.350000</td>\n      <td>1.300000</td>\n    </tr>\n    <tr>\n      <th>75%</th>\n      <td>6.400000</td>\n      <td>3.300000</td>\n      <td>5.100000</td>\n      <td>1.800000</td>\n    </tr>\n    <tr>\n      <th>max</th>\n      <td>7.900000</td>\n      <td>4.400000</td>\n      <td>6.900000</td>\n      <td>2.500000</td>\n    </tr>\n  </tbody>\n</table>\n</div>"
     },
     "metadata": {},
     "execution_count": 45
    }
   ],
   "source": [
    "df_all.describe()"
   ]
  },
  {
   "cell_type": "code",
   "execution_count": null,
   "metadata": {},
   "outputs": [],
   "source": []
  }
 ]
}